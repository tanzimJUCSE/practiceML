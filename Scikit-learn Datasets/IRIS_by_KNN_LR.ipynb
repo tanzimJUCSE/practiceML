{
  "nbformat": 4,
  "nbformat_minor": 0,
  "metadata": {
    "colab": {
      "name": "IRIS_by_KNN_LR.ipynb",
      "provenance": [],
      "collapsed_sections": []
    },
    "kernelspec": {
      "name": "python3",
      "display_name": "Python 3"
    }
  },
  "cells": [
    {
      "cell_type": "code",
      "metadata": {
        "id": "XfuxBreXWioU",
        "colab_type": "code",
        "colab": {}
      },
      "source": [
        "import pandas as pd\n",
        "import numpy as np"
      ],
      "execution_count": 0,
      "outputs": []
    },
    {
      "cell_type": "code",
      "metadata": {
        "id": "381sOFQQWnsm",
        "colab_type": "code",
        "colab": {}
      },
      "source": [
        "from sklearn import datasets\n",
        "iris=datasets.load_iris()"
      ],
      "execution_count": 0,
      "outputs": []
    },
    {
      "cell_type": "code",
      "metadata": {
        "id": "h_JcJg7KWsCc",
        "colab_type": "code",
        "colab": {}
      },
      "source": [
        "X=iris.data\n",
        "y=iris.target"
      ],
      "execution_count": 0,
      "outputs": []
    },
    {
      "cell_type": "markdown",
      "metadata": {
        "id": "gXt6jsvRWy5n",
        "colab_type": "text"
      },
      "source": [
        "**Using K Nearest Neighbors**\n"
      ]
    },
    {
      "cell_type": "code",
      "metadata": {
        "id": "HFWoJGycW8UN",
        "colab_type": "code",
        "colab": {}
      },
      "source": [
        "from sklearn.model_selection import train_test_split\n",
        "X_train,X_test,y_train,y_test=train_test_split(X,y,test_size=0.3)"
      ],
      "execution_count": 0,
      "outputs": []
    },
    {
      "cell_type": "code",
      "metadata": {
        "id": "LOD8EOoYXhQg",
        "colab_type": "code",
        "colab": {}
      },
      "source": [
        "from sklearn.neighbors import KNeighborsClassifier\n",
        "knn=KNeighborsClassifier(n_neighbors=3)"
      ],
      "execution_count": 0,
      "outputs": []
    },
    {
      "cell_type": "code",
      "metadata": {
        "id": "iev0qz2oYKNk",
        "colab_type": "code",
        "colab": {
          "base_uri": "https://localhost:8080/",
          "height": 67
        },
        "outputId": "d4e76729-d156-4162-a908-f398f38776ab"
      },
      "source": [
        "knn"
      ],
      "execution_count": 9,
      "outputs": [
        {
          "output_type": "execute_result",
          "data": {
            "text/plain": [
              "KNeighborsClassifier(algorithm='auto', leaf_size=30, metric='minkowski',\n",
              "                     metric_params=None, n_jobs=None, n_neighbors=3, p=2,\n",
              "                     weights='uniform')"
            ]
          },
          "metadata": {
            "tags": []
          },
          "execution_count": 9
        }
      ]
    },
    {
      "cell_type": "code",
      "metadata": {
        "id": "S7FdW_-wYLRC",
        "colab_type": "code",
        "colab": {
          "base_uri": "https://localhost:8080/",
          "height": 67
        },
        "outputId": "1ea00ada-c061-4afb-ea62-e761be285441"
      },
      "source": [
        "knn.fit(X_train,y_train)"
      ],
      "execution_count": 10,
      "outputs": [
        {
          "output_type": "execute_result",
          "data": {
            "text/plain": [
              "KNeighborsClassifier(algorithm='auto', leaf_size=30, metric='minkowski',\n",
              "                     metric_params=None, n_jobs=None, n_neighbors=3, p=2,\n",
              "                     weights='uniform')"
            ]
          },
          "metadata": {
            "tags": []
          },
          "execution_count": 10
        }
      ]
    },
    {
      "cell_type": "code",
      "metadata": {
        "id": "Mk9WP6SZYTJJ",
        "colab_type": "code",
        "colab": {
          "base_uri": "https://localhost:8080/",
          "height": 34
        },
        "outputId": "ec9b98cd-8934-42bf-8db0-65dbf42bbdbe"
      },
      "source": [
        "knn.predict([[3,4,5,2]])"
      ],
      "execution_count": 11,
      "outputs": [
        {
          "output_type": "execute_result",
          "data": {
            "text/plain": [
              "array([1])"
            ]
          },
          "metadata": {
            "tags": []
          },
          "execution_count": 11
        }
      ]
    },
    {
      "cell_type": "code",
      "metadata": {
        "id": "hXImzdOhYdhL",
        "colab_type": "code",
        "colab": {
          "base_uri": "https://localhost:8080/",
          "height": 67
        },
        "outputId": "0fe21ff9-df80-4779-fedf-c0ce108e2abe"
      },
      "source": [
        "knn.predict(X_test)"
      ],
      "execution_count": 13,
      "outputs": [
        {
          "output_type": "execute_result",
          "data": {
            "text/plain": [
              "array([2, 0, 1, 1, 0, 2, 1, 0, 1, 1, 2, 2, 0, 2, 0, 2, 1, 2, 0, 0, 2, 2,\n",
              "       2, 0, 1, 1, 1, 1, 1, 2, 1, 2, 0, 2, 1, 1, 2, 0, 2, 1, 0, 1, 2, 2,\n",
              "       0])"
            ]
          },
          "metadata": {
            "tags": []
          },
          "execution_count": 13
        }
      ]
    },
    {
      "cell_type": "code",
      "metadata": {
        "id": "owf1ADxrYgCs",
        "colab_type": "code",
        "colab": {
          "base_uri": "https://localhost:8080/",
          "height": 67
        },
        "outputId": "8f4fcec7-4a54-4441-883c-86d961fa7bcd"
      },
      "source": [
        "y_test"
      ],
      "execution_count": 14,
      "outputs": [
        {
          "output_type": "execute_result",
          "data": {
            "text/plain": [
              "array([2, 0, 1, 1, 0, 2, 1, 0, 1, 1, 1, 1, 0, 2, 0, 2, 1, 2, 0, 0, 2, 2,\n",
              "       2, 0, 1, 1, 1, 1, 1, 2, 1, 2, 0, 2, 1, 1, 2, 0, 2, 1, 0, 1, 2, 2,\n",
              "       0])"
            ]
          },
          "metadata": {
            "tags": []
          },
          "execution_count": 14
        }
      ]
    },
    {
      "cell_type": "code",
      "metadata": {
        "id": "CAzhVVc2YuFe",
        "colab_type": "code",
        "colab": {}
      },
      "source": [
        "c=knn.predict(X_test)"
      ],
      "execution_count": 0,
      "outputs": []
    },
    {
      "cell_type": "code",
      "metadata": {
        "id": "yrihClfjZMLR",
        "colab_type": "code",
        "colab": {
          "base_uri": "https://localhost:8080/",
          "height": 34
        },
        "outputId": "7efd6d0b-6fa7-429b-9819-6dabcd7e95df"
      },
      "source": [
        "knn.score(X_test,y_test)"
      ],
      "execution_count": 21,
      "outputs": [
        {
          "output_type": "execute_result",
          "data": {
            "text/plain": [
              "0.9555555555555556"
            ]
          },
          "metadata": {
            "tags": []
          },
          "execution_count": 21
        }
      ]
    },
    {
      "cell_type": "code",
      "metadata": {
        "id": "t_DZJVeIZOq_",
        "colab_type": "code",
        "colab": {}
      },
      "source": [
        "a=knn.predict([[3,4,5,5]])"
      ],
      "execution_count": 0,
      "outputs": []
    },
    {
      "cell_type": "code",
      "metadata": {
        "id": "amuCScOEbllW",
        "colab_type": "code",
        "colab": {
          "base_uri": "https://localhost:8080/",
          "height": 34
        },
        "outputId": "e9a1b813-4ab6-4b06-9bdb-b4e249e7ee0b"
      },
      "source": [
        "a"
      ],
      "execution_count": 23,
      "outputs": [
        {
          "output_type": "execute_result",
          "data": {
            "text/plain": [
              "array([2])"
            ]
          },
          "metadata": {
            "tags": []
          },
          "execution_count": 23
        }
      ]
    },
    {
      "cell_type": "code",
      "metadata": {
        "id": "JoCt5FHKbmWf",
        "colab_type": "code",
        "colab": {
          "base_uri": "https://localhost:8080/",
          "height": 34
        },
        "outputId": "36e38162-912a-4d73-8f03-bf0dc892bda0"
      },
      "source": [
        "print(\"Name of the Category : \",iris['target_names'][a])"
      ],
      "execution_count": 26,
      "outputs": [
        {
          "output_type": "stream",
          "text": [
            "Name of the Category :  ['virginica']\n"
          ],
          "name": "stdout"
        }
      ]
    },
    {
      "cell_type": "code",
      "metadata": {
        "id": "ODmnCQ2nb4H8",
        "colab_type": "code",
        "colab": {
          "base_uri": "https://localhost:8080/",
          "height": 773
        },
        "outputId": "6ad4399f-3c8f-4cea-8333-f55b8bfd3dcb"
      },
      "source": [
        "for i in knn.predict(X_test):\n",
        "  print(\"Predicted Name of the Category : \",iris['target_names'][i])"
      ],
      "execution_count": 27,
      "outputs": [
        {
          "output_type": "stream",
          "text": [
            "Predicted Name of the Category :  virginica\n",
            "Predicted Name of the Category :  setosa\n",
            "Predicted Name of the Category :  versicolor\n",
            "Predicted Name of the Category :  versicolor\n",
            "Predicted Name of the Category :  setosa\n",
            "Predicted Name of the Category :  virginica\n",
            "Predicted Name of the Category :  versicolor\n",
            "Predicted Name of the Category :  setosa\n",
            "Predicted Name of the Category :  versicolor\n",
            "Predicted Name of the Category :  versicolor\n",
            "Predicted Name of the Category :  virginica\n",
            "Predicted Name of the Category :  virginica\n",
            "Predicted Name of the Category :  setosa\n",
            "Predicted Name of the Category :  virginica\n",
            "Predicted Name of the Category :  setosa\n",
            "Predicted Name of the Category :  virginica\n",
            "Predicted Name of the Category :  versicolor\n",
            "Predicted Name of the Category :  virginica\n",
            "Predicted Name of the Category :  setosa\n",
            "Predicted Name of the Category :  setosa\n",
            "Predicted Name of the Category :  virginica\n",
            "Predicted Name of the Category :  virginica\n",
            "Predicted Name of the Category :  virginica\n",
            "Predicted Name of the Category :  setosa\n",
            "Predicted Name of the Category :  versicolor\n",
            "Predicted Name of the Category :  versicolor\n",
            "Predicted Name of the Category :  versicolor\n",
            "Predicted Name of the Category :  versicolor\n",
            "Predicted Name of the Category :  versicolor\n",
            "Predicted Name of the Category :  virginica\n",
            "Predicted Name of the Category :  versicolor\n",
            "Predicted Name of the Category :  virginica\n",
            "Predicted Name of the Category :  setosa\n",
            "Predicted Name of the Category :  virginica\n",
            "Predicted Name of the Category :  versicolor\n",
            "Predicted Name of the Category :  versicolor\n",
            "Predicted Name of the Category :  virginica\n",
            "Predicted Name of the Category :  setosa\n",
            "Predicted Name of the Category :  virginica\n",
            "Predicted Name of the Category :  versicolor\n",
            "Predicted Name of the Category :  setosa\n",
            "Predicted Name of the Category :  versicolor\n",
            "Predicted Name of the Category :  virginica\n",
            "Predicted Name of the Category :  virginica\n",
            "Predicted Name of the Category :  setosa\n"
          ],
          "name": "stdout"
        }
      ]
    },
    {
      "cell_type": "markdown",
      "metadata": {
        "id": "BWCZFb6idEXm",
        "colab_type": "text"
      },
      "source": [
        "**Using Logistics Regression**"
      ]
    },
    {
      "cell_type": "code",
      "metadata": {
        "id": "TRDIAT51dKvs",
        "colab_type": "code",
        "colab": {}
      },
      "source": [
        "from sklearn.linear_model import LogisticRegression"
      ],
      "execution_count": 0,
      "outputs": []
    },
    {
      "cell_type": "code",
      "metadata": {
        "id": "ChwART19ebKp",
        "colab_type": "code",
        "colab": {}
      },
      "source": [
        "lr=LogisticRegression()"
      ],
      "execution_count": 0,
      "outputs": []
    },
    {
      "cell_type": "code",
      "metadata": {
        "id": "YSwNKPz1edNb",
        "colab_type": "code",
        "colab": {
          "base_uri": "https://localhost:8080/",
          "height": 101
        },
        "outputId": "d727f2ef-c87e-4b2f-8986-453837204997"
      },
      "source": [
        "lr.fit(X_train,y_train)"
      ],
      "execution_count": 30,
      "outputs": [
        {
          "output_type": "execute_result",
          "data": {
            "text/plain": [
              "LogisticRegression(C=1.0, class_weight=None, dual=False, fit_intercept=True,\n",
              "                   intercept_scaling=1, l1_ratio=None, max_iter=100,\n",
              "                   multi_class='auto', n_jobs=None, penalty='l2',\n",
              "                   random_state=None, solver='lbfgs', tol=0.0001, verbose=0,\n",
              "                   warm_start=False)"
            ]
          },
          "metadata": {
            "tags": []
          },
          "execution_count": 30
        }
      ]
    },
    {
      "cell_type": "code",
      "metadata": {
        "id": "UUZcwpymeg6h",
        "colab_type": "code",
        "colab": {
          "base_uri": "https://localhost:8080/",
          "height": 67
        },
        "outputId": "faa1a809-7dcc-4767-da08-17f6a30fbf0e"
      },
      "source": [
        "lr.predict(X_test)"
      ],
      "execution_count": 31,
      "outputs": [
        {
          "output_type": "execute_result",
          "data": {
            "text/plain": [
              "array([2, 0, 1, 1, 0, 2, 1, 0, 1, 1, 2, 2, 0, 2, 0, 2, 1, 2, 0, 0, 2, 2,\n",
              "       2, 0, 1, 1, 1, 1, 1, 2, 1, 2, 0, 2, 1, 1, 2, 0, 2, 1, 0, 1, 2, 2,\n",
              "       0])"
            ]
          },
          "metadata": {
            "tags": []
          },
          "execution_count": 31
        }
      ]
    },
    {
      "cell_type": "code",
      "metadata": {
        "id": "BJ-V_I3UejRk",
        "colab_type": "code",
        "colab": {
          "base_uri": "https://localhost:8080/",
          "height": 34
        },
        "outputId": "787ad818-f577-43cf-8283-3d547720c75f"
      },
      "source": [
        "lr.score(X_test,y_test)"
      ],
      "execution_count": 32,
      "outputs": [
        {
          "output_type": "execute_result",
          "data": {
            "text/plain": [
              "0.9555555555555556"
            ]
          },
          "metadata": {
            "tags": []
          },
          "execution_count": 32
        }
      ]
    },
    {
      "cell_type": "code",
      "metadata": {
        "id": "puXDi1gdeopb",
        "colab_type": "code",
        "colab": {}
      },
      "source": [
        ""
      ],
      "execution_count": 0,
      "outputs": []
    }
  ]
}